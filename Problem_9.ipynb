{
 "cells": [
  {
   "cell_type": "markdown",
   "metadata": {},
   "source": [
    "A Pythagorean triplet is a set of three natural numbers, a < b < c, for which,\n",
    "a² + b² = c²\n",
    "\n",
    "For example, 3² + 4² = 9 + 16 = 25 = 5².\n",
    "\n",
    "There exists exactly one Pythagorean triplet for which a + b + c = 1000.\n",
    "Find the product abc."
   ]
  },
  {
   "cell_type": "markdown",
   "metadata": {},
   "source": [
    "(I)     a² + b² = c²\n",
    "(II)    a + b + c = x <=> c = x -b -a <=> c² = (x-b-a) * (x-b-a) = x² -2bx -2ax +b² +2ba +a²\n",
    "\n",
    "(II) in (I):\n",
    "a² + b² = x² -2xb -2xa +b² +2ba +a²  | -(a² + b²)\n",
    "0 = x² -2xb -2xa +2ba\n",
    "0 = x² -2x*(a+b) +2ba\n"
   ]
  },
  {
   "cell_type": "code",
   "execution_count": 13,
   "metadata": {
    "collapsed": false
   },
   "outputs": [
    {
     "name": "stdout",
     "output_type": "stream",
     "text": [
      "[200, 375, 425.0]\n"
     ]
    }
   ],
   "source": [
    "def pythagorean_abc_brute_force(_sum):\n",
    "    for a in range(1,_sum+1):\n",
    "        for b in range(1,_sum+1):\n",
    "            for c in range(1,_sum+1):\n",
    "                if(a+b+c == _sum and a**2 + b**2 == c**2):\n",
    "                    return [a,b,c]\n",
    "                \n",
    "def pythagorean_ab(_sum):\n",
    "    for a in range(1,_sum+1):\n",
    "        for b in range(1,_sum+1):\n",
    "            if(0 == _sum**2 -2*_sum*(a+b) +2*b*a):\n",
    "                return [a,b, (a**2 + b**2)**0.5]\n",
    "                \n",
    "#print(pythagorean_abc_brute_force(1000))\n",
    "print(pythagorean_ab(1000))"
   ]
  }
 ],
 "metadata": {
  "kernelspec": {
   "display_name": "Python 3",
   "language": "python",
   "name": "python3"
  },
  "language_info": {
   "codemirror_mode": {
    "name": "ipython",
    "version": 3
   },
   "file_extension": ".py",
   "mimetype": "text/x-python",
   "name": "python",
   "nbconvert_exporter": "python",
   "pygments_lexer": "ipython3",
   "version": "3.4.3"
  }
 },
 "nbformat": 4,
 "nbformat_minor": 0
}
