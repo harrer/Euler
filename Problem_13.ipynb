{
 "cells": [
  {
   "cell_type": "code",
   "execution_count": 152,
   "metadata": {
    "collapsed": false
   },
   "outputs": [
    {
     "name": "stdout",
     "output_type": "stream",
     "text": [
      "[55, 3L, 7L, 3L, 7L, 6L, 2L, 3L, 0L, 3L]\n",
      "5537376230390876637302048746832985971773659831892672\n"
     ]
    }
   ],
   "source": [
    "def large_sum(a,b):\n",
    "    my_sum = []\n",
    "    la = len(a)\n",
    "    lb = len(b)\n",
    "    a = a[::-1]\n",
    "    b = b[::-1]\n",
    "    uebertrag = False\n",
    "    for i in range(min(la,lb)):\n",
    "        tmpSum = a[i] + b[i]\n",
    "        if(uebertrag):\n",
    "            my_sum.append((tmpSum%10)+1)\n",
    "            uebertrag = False\n",
    "        else:\n",
    "            my_sum.append(tmpSum%10)\n",
    "        if(tmpSum >= 10):\n",
    "            uebertrag = True\n",
    "    if(la == lb):\n",
    "        if(uebertrag):\n",
    "            my_sum.append(1)\n",
    "    \n",
    "    elif(la < lb):\n",
    "        if(uebertrag):\n",
    "            my_sum.append(b[la]+1)\n",
    "        else:\n",
    "            my_sum.append(b[la])\n",
    "        for i in range(lb-la-1):\n",
    "            my_sum.append(b[la+i+1])\n",
    "    elif(lb < la):\n",
    "        if(uebertrag):\n",
    "            my_sum.append(a[lb]+1)\n",
    "        else:\n",
    "            my_sum.append(a[lb])\n",
    "        for i in range(la-lb-1):\n",
    "            my_sum.append(a[lb+i+1])\n",
    "    return my_sum[::-1]\n",
    "\n",
    "from math import floor\n",
    "def numberToArray(n):\n",
    "    a = []\n",
    "    for i in range(int(floor(log(n,10))+1)):\n",
    "        a.append((n/(pow(10,i)))%10)\n",
    "    return a[::-1]\n",
    "\n",
    "def arrayToNumber(a):\n",
    "    n = 0\n",
    "    c = len(a)-1\n",
    "    for d in a:\n",
    "        n += pow(10,c)*d\n",
    "        c -= 1\n",
    "    return n\n",
    "\n",
    "def calculateSum(fname):\n",
    "    content = []\n",
    "    with open(fname) as f:\n",
    "        content = f.readlines()\n",
    "    my_sum = []\n",
    "    for n in content:\n",
    "        my_sum = large_sum(numberToArray(int(n)), my_sum)\n",
    "    return my_sum[:10]\n",
    "\n",
    "print(calculateSum(\"numbers\"))\n",
    "with open(\"numbers\") as f:\n",
    "        content = f.readlines()\n",
    "        my_content = []\n",
    "        for c in content:\n",
    "            my_content.append(int(c))\n",
    "        print(sum(my_content))\n"
   ]
  },
  {
   "cell_type": "code",
   "execution_count": 151,
   "metadata": {
    "collapsed": false
   },
   "outputs": [
    {
     "name": "stdout",
     "output_type": "stream",
     "text": [
      "[2, 5, 7]\n"
     ]
    }
   ],
   "source": [
    "print([2,5,7,8,9][:3])"
   ]
  }
 ],
 "metadata": {
  "kernelspec": {
   "display_name": "Python 2",
   "language": "python",
   "name": "python2"
  },
  "language_info": {
   "codemirror_mode": {
    "name": "ipython",
    "version": 2
   },
   "file_extension": ".py",
   "mimetype": "text/x-python",
   "name": "python",
   "nbconvert_exporter": "python",
   "pygments_lexer": "ipython2",
   "version": "2.7.10"
  }
 },
 "nbformat": 4,
 "nbformat_minor": 0
}
