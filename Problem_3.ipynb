{
 "cells": [
  {
   "cell_type": "code",
   "execution_count": 108,
   "metadata": {
    "collapsed": false
   },
   "outputs": [
    {
     "data": {
      "text/plain": [
       "6857"
      ]
     },
     "execution_count": 108,
     "metadata": {},
     "output_type": "execute_result"
    }
   ],
   "source": [
    "def prime_simple(n):\n",
    "    if n%2==0 or n%3==0:\n",
    "        return False\n",
    "    i = 5\n",
    "    while (i*i)<=n:\n",
    "        if n%i==0 or n%(i + 2)==0:\n",
    "            return False\n",
    "        i+=6\n",
    "    return True\n",
    "#print([n for n in range(5,1000000,2) if prime_simple(n)])\n",
    "\n",
    "p = [2,3]\n",
    "def prime_array(n):\n",
    "    for i in p:\n",
    "        if i*i>n:\n",
    "            p.append(n)\n",
    "            return True\n",
    "        if n%i==0:\n",
    "            return False\n",
    "    p.append(n)\n",
    "    return True\n",
    "\n",
    "from math import sqrt\n",
    "def largest_primeFactor(n):\n",
    "    a = [nn for nn in range(5,(int(sqrt(n))+2),2) if prime_array(nn)]\n",
    "    for i in reversed(p):\n",
    "        if n%i==0:\n",
    "            return i\n",
    "            \n",
    "largest_primeFactor(600851475143)"
   ]
  }
 ],
 "metadata": {
  "kernelspec": {
   "display_name": "Python 2",
   "language": "python",
   "name": "python2"
  },
  "language_info": {
   "codemirror_mode": {
    "name": "ipython",
    "version": 2
   },
   "file_extension": ".py",
   "mimetype": "text/x-python",
   "name": "python",
   "nbconvert_exporter": "python",
   "pygments_lexer": "ipython2",
   "version": "2.7.9"
  }
 },
 "nbformat": 4,
 "nbformat_minor": 0
}
