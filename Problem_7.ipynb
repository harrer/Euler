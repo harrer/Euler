{
 "cells": [
  {
   "cell_type": "markdown",
   "metadata": {},
   "source": [
    "By listing the first six prime numbers: 2, 3, 5, 7, 11, and 13, we can see that the 6th prime is 13.\n",
    "\n",
    "What is the 10 001st prime number?"
   ]
  },
  {
   "cell_type": "code",
   "execution_count": 8,
   "metadata": {
    "collapsed": false
   },
   "outputs": [
    {
     "name": "stdout",
     "output_type": "stream",
     "text": [
      "104743\n"
     ]
    }
   ],
   "source": [
    "p = [2,3]\n",
    "def prime(n):\n",
    "    for i in p:\n",
    "        if i*i>n:\n",
    "            p.append(n)\n",
    "            return True\n",
    "        if n%i==0:\n",
    "            return False\n",
    "    p.append(n)\n",
    "    return True\n",
    "\n",
    "c = 2\n",
    "n = 5\n",
    "while c != 10001:\n",
    "    if prime(n):\n",
    "        c+=1\n",
    "    n+=2\n",
    "print n-2\n",
    "\n",
    "#for i in range(5,104777,2):\n",
    "#    prime(i)\n",
    "#print(p[10000])"
   ]
  }
 ],
 "metadata": {
  "kernelspec": {
   "display_name": "Python 2",
   "language": "python",
   "name": "python2"
  },
  "language_info": {
   "codemirror_mode": {
    "name": "ipython",
    "version": 2
   },
   "file_extension": ".py",
   "mimetype": "text/x-python",
   "name": "python",
   "nbconvert_exporter": "python",
   "pygments_lexer": "ipython2",
   "version": "2.7.6"
  }
 },
 "nbformat": 4,
 "nbformat_minor": 0
}
