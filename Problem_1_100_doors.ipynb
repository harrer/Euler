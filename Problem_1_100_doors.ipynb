{
 "cells": [
  {
   "cell_type": "code",
   "execution_count": 1,
   "metadata": {
    "collapsed": false
   },
   "outputs": [
    {
     "data": {
      "text/plain": [
       "(2+11j)"
      ]
     },
     "execution_count": 1,
     "metadata": {},
     "output_type": "execute_result"
    }
   ],
   "source": [
    "def f(x):\n",
    "    return x*x*x\n",
    "f(2.+1.j)#f(2.+1.j)"
   ]
  },
  {
   "cell_type": "code",
   "execution_count": 19,
   "metadata": {
    "collapsed": false
   },
   "outputs": [
    {
     "name": "stdout",
     "output_type": "stream",
     "text": [
      "sets: \n",
      "233168\n",
      "sets2: \n",
      "233168\n"
     ]
    }
   ],
   "source": [
    "def sets():\n",
    "    s = set()\n",
    "\n",
    "    for i in range(334):\n",
    "        f = i*5\n",
    "        t = i*3\n",
    "        if f < 1000:\n",
    "            s.add(f)\n",
    "        if t < 1000:\n",
    "            s.add(t)\n",
    "    \n",
    "    sum = 0\n",
    "    \n",
    "    for el in s:\n",
    "        sum += el\n",
    "        \n",
    "    return sum\n",
    "       \n",
    "def sets2():\n",
    "    a = {x for x in range(1000) if x%3==0 or x%5==0}\n",
    "    return sum(a)\n",
    "    \n",
    "print(\"sets: \")\n",
    "print(sets())\n",
    "print(\"sets2: \")\n",
    "print(sets2())"
   ]
  },
  {
   "cell_type": "code",
   "execution_count": 11,
   "metadata": {
    "collapsed": false
   },
   "outputs": [
    {
     "data": {
      "text/plain": [
       "[1, 4, 9, 16, 25, 36, 49, 64, 81, 100]"
      ]
     },
     "execution_count": 11,
     "metadata": {},
     "output_type": "execute_result"
    }
   ],
   "source": [
    "def doors(n):\n",
    "    d = [False for i in range(n)]\n",
    "    for i in range(n):\n",
    "        j = i\n",
    "        while j < n:\n",
    "            d[j] = not d[j]\n",
    "            #print \"Door %d:\" % (j+1), 'open' if d[j] else 'close'\n",
    "            j += (i+1)\n",
    "    return d\n",
    "    \n",
    "[i+1 for i,x in enumerate(doors(100)) if x]"
   ]
  },
  {
   "cell_type": "code",
   "execution_count": 9,
   "metadata": {
    "collapsed": false
   },
   "outputs": [
    {
     "data": {
      "text/plain": [
       "[1, 6, 11, 16, 21, 26, 31, 36, 41, 46, 51, 56, 61, 66, 71, 76, 81, 86, 91, 96]"
      ]
     },
     "execution_count": 9,
     "metadata": {},
     "output_type": "execute_result"
    }
   ],
   "source": [
    "range(1, 101, 5)"
   ]
  }
 ],
 "metadata": {
  "kernelspec": {
   "display_name": "Python 2",
   "language": "python",
   "name": "python2"
  },
  "language_info": {
   "codemirror_mode": {
    "name": "ipython",
    "version": 2
   },
   "file_extension": ".py",
   "mimetype": "text/x-python",
   "name": "python",
   "nbconvert_exporter": "python",
   "pygments_lexer": "ipython2",
   "version": "2.7.6"
  }
 },
 "nbformat": 4,
 "nbformat_minor": 0
}
