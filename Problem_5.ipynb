{
 "cells": [
  {
   "cell_type": "markdown",
   "metadata": {},
   "source": [
    "2520 is the smallest number that can be divided by each of the numbers from 1 to 10 without any remainder.\n",
    "\n",
    "What is the smallest positive number that is evenly divisible by all of the numbers from 1 to 20?\n"
   ]
  },
  {
   "cell_type": "code",
   "execution_count": 17,
   "metadata": {
    "collapsed": false
   },
   "outputs": [
    {
     "data": {
      "text/plain": [
       "232792560"
      ]
     },
     "execution_count": 17,
     "metadata": {},
     "output_type": "execute_result"
    }
   ],
   "source": [
    "def evenly_divisible(_from, to):#brute force\n",
    "    found = False\n",
    "    n = to\n",
    "    while not found:\n",
    "        found = True\n",
    "        for i in range(_from, to+1):\n",
    "            if n%i!=0:\n",
    "                found = False\n",
    "                break\n",
    "        if found:\n",
    "            return n\n",
    "        else:\n",
    "            n+=1     \n",
    "\n",
    "            \n",
    "def div_20():#no redunant divisors, only every 20th number is considered\n",
    "    n = 20\n",
    "    while True:\n",
    "        found = True\n",
    "        for i in range(11,20):\n",
    "            if n%i!=0:\n",
    "                found = False\n",
    "                break\n",
    "        if found:\n",
    "            return n\n",
    "        else: n+=20\n",
    "                \n",
    "div_20()\n",
    "#evenly_divisible(1,12)\n",
    "#232792560\n"
   ]
  }
 ],
 "metadata": {
  "kernelspec": {
   "display_name": "Python 2",
   "language": "python",
   "name": "python2"
  },
  "language_info": {
   "codemirror_mode": {
    "name": "ipython",
    "version": 2
   },
   "file_extension": ".py",
   "mimetype": "text/x-python",
   "name": "python",
   "nbconvert_exporter": "python",
   "pygments_lexer": "ipython2",
   "version": "2.7.6"
  }
 },
 "nbformat": 4,
 "nbformat_minor": 0
}
