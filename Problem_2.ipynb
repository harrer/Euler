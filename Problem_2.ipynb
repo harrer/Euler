{
 "cells": [
  {
   "cell_type": "code",
   "execution_count": 58,
   "metadata": {
    "collapsed": false
   },
   "outputs": [
    {
     "name": "stdout",
     "output_type": "stream",
     "text": [
      "4457918\n"
     ]
    }
   ],
   "source": [
    "def fib_recursive(n):\n",
    "    if n==1:\n",
    "        return 1\n",
    "    elif n==2:\n",
    "        return 2\n",
    "    else:\n",
    "        return fib(n-1) + fib(n-2)\n",
    "    \n",
    "fibs = [1,2]\n",
    "#from collections import deque\n",
    "def fib(n):\n",
    "    for i in range(2,n):\n",
    "        fibs.append(fibs[i-1] + fibs[i-2])\n",
    "    return fibs[n-1]\n",
    "def fib_even_sum(max):\n",
    "    i = 2\n",
    "    fibs.append(fibs[i-1] + fibs[i-2])\n",
    "    while fibs[i] < max:\n",
    "        fibs.append(fibs[i-1] + fibs[i-2])\n",
    "        i+=1\n",
    "    else:\n",
    "        fibs.pop()\n",
    "    return sum([x for x in fibs if x%2==0])\n",
    "    \n",
    "    \n",
    "print(fib_even_sum(4000000))"
   ]
  },
  {
   "cell_type": "code",
   "execution_count": 14,
   "metadata": {
    "collapsed": false
   },
   "outputs": [],
   "source": [
    "f = [1,2]\n",
    "f.append(4)"
   ]
  }
 ],
 "metadata": {
  "kernelspec": {
   "display_name": "Python 2",
   "language": "python",
   "name": "python2"
  },
  "language_info": {
   "codemirror_mode": {
    "name": "ipython",
    "version": 2
   },
   "file_extension": ".py",
   "mimetype": "text/x-python",
   "name": "python",
   "nbconvert_exporter": "python",
   "pygments_lexer": "ipython2",
   "version": "2.7.6"
  }
 },
 "nbformat": 4,
 "nbformat_minor": 0
}
