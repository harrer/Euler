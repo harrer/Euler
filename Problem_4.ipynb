{
 "cells": [
  {
   "cell_type": "code",
   "execution_count": 1,
   "metadata": {
    "collapsed": false
   },
   "outputs": [
    {
     "data": {
      "text/plain": [
       "99980001"
      ]
     },
     "execution_count": 1,
     "metadata": {},
     "output_type": "execute_result"
    }
   ],
   "source": [
    "def numberIsPalindrome(n):\n",
    "    n = str(n)\n",
    "    c = 0\n",
    "    while c < len(n)/2:\n",
    "        i = n[c]\n",
    "        j = n[len(n)-(c+1)]\n",
    "        if i!=j:\n",
    "            return False\n",
    "        c+=1\n",
    "    return True\n",
    "\n",
    "l = []\n",
    "def threeDigitMultiples():\n",
    "    for i in range(1,1000):\n",
    "        for j in range(1,1000):\n",
    "            #if not (i*j in set(l)):\n",
    "                l.append(i*j)\n",
    "\n",
    "    return l\n",
    "\n",
    "max([n for n in threeDigitMultiples()])# if numberIsPalindrome(n)])"
   ]
  },
  {
   "cell_type": "code",
   "execution_count": 24,
   "metadata": {
    "collapsed": false
   },
   "outputs": [
    {
     "name": "stdout",
     "output_type": "stream",
     "text": [
      "1\n",
      "7\n",
      "11\n",
      "77\n"
     ]
    }
   ],
   "source": [
    "for i in range(1,100):\n",
    "    if 9779%i==0:\n",
    "        print i"
   ]
  }
 ],
 "metadata": {
  "kernelspec": {
   "display_name": "Python 2",
   "language": "python",
   "name": "python2"
  },
  "language_info": {
   "codemirror_mode": {
    "name": "ipython",
    "version": 2
   },
   "file_extension": ".py",
   "mimetype": "text/x-python",
   "name": "python",
   "nbconvert_exporter": "python",
   "pygments_lexer": "ipython2",
   "version": "2.7.9"
  }
 },
 "nbformat": 4,
 "nbformat_minor": 0
}
