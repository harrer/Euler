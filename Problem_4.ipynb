{
 "cells": [
  {
   "cell_type": "code",
   "execution_count": 2,
   "metadata": {
    "collapsed": false
   },
   "outputs": [
    {
     "data": {
      "text/plain": [
       "906609"
      ]
     },
     "execution_count": 2,
     "metadata": {},
     "output_type": "execute_result"
    }
   ],
   "source": [
    "def numberIsPalindrome(n):\n",
    "    n = str(n)\n",
    "    c = 0\n",
    "    while c < len(n)/2:\n",
    "        i = n[c]\n",
    "        j = n[len(n)-(c+1)]\n",
    "        if i!=j:\n",
    "            return False\n",
    "        c+=1\n",
    "    return True\n",
    "\n",
    "l = []\n",
    "def threeDigitMultiples():\n",
    "    for i in range(1,1000):\n",
    "        for j in range(1,1000):\n",
    "            #if not (i*j in set(l)):\n",
    "                l.append(i*j)\n",
    "\n",
    "    return l\n",
    "\n",
    "max([n for n in threeDigitMultiples() if numberIsPalindrome(n)])"
   ]
  }
 ],
 "metadata": {
  "kernelspec": {
   "display_name": "Python 2",
   "language": "python",
   "name": "python2"
  },
  "language_info": {
   "codemirror_mode": {
    "name": "ipython",
    "version": 2
   },
   "file_extension": ".py",
   "mimetype": "text/x-python",
   "name": "python",
   "nbconvert_exporter": "python",
   "pygments_lexer": "ipython2",
   "version": "2.7.9"
  }
 },
 "nbformat": 4,
 "nbformat_minor": 0
}
