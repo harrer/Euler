{
 "cells": [
  {
   "cell_type": "markdown",
   "metadata": {},
   "source": [
    "What is the greatest product of four adjacent numbers in the same direction (up, down, left, right, or diagonally) in the 20×20 grid?"
   ]
  },
  {
   "cell_type": "code",
   "execution_count": 28,
   "metadata": {
    "collapsed": false
   },
   "outputs": [
    {
     "name": "stdout",
     "output_type": "stream",
     "text": [
      "[[0, 0, 0, 0, 0, 0, 0, 0, 0, 0, 0, 0, 0, 0, 0, 0, 0, 0, 0, 0], [0, 0, 0, 0, 0, 0, 0, 0, 0, 0, 0, 0, 0, 0, 0, 0, 0, 0, 0, 0], [0, 0, 0, 0, 0, 0, 0, 0, 0, 0, 0, 0, 0, 0, 0, 0, 0, 0, 0, 0], [0, 0, 0, 0, 0, 0, 0, 0, 0, 0, 0, 0, 0, 0, 0, 0, 0, 0, 0, 0], [0, 0, 0, 0, 0, 0, 0, 0, 0, 0, 0, 0, 0, 0, 0, 0, 0, 0, 0, 0], [0, 0, 0, 0, 0, 0, 0, 0, 0, 0, 0, 0, 0, 0, 0, 0, 0, 0, 0, 0], [0, 0, 0, 0, 0, 0, 0, 0, 0, 0, 0, 0, 0, 0, 0, 0, 0, 0, 0, 0], [0, 0, 0, 0, 0, 0, 0, 0, 0, 0, 0, 0, 0, 0, 0, 0, 0, 0, 0, 0], [0, 0, 0, 0, 0, 0, 0, 0, 0, 0, 0, 0, 0, 0, 0, 0, 0, 0, 0, 0], [0, 0, 0, 0, 0, 0, 0, 0, 0, 0, 0, 0, 0, 0, 0, 0, 0, 0, 0, 0], [0, 0, 0, 0, 0, 0, 0, 0, 0, 0, 0, 0, 0, 0, 0, 0, 0, 0, 0, 0], [0, 0, 0, 0, 0, 0, 0, 0, 0, 0, 0, 0, 0, 0, 0, 0, 0, 0, 0, 0], [0, 0, 0, 0, 0, 0, 0, 0, 0, 0, 0, 0, 0, 0, 0, 0, 0, 0, 0, 0], [0, 0, 0, 0, 0, 0, 0, 0, 0, 0, 0, 0, 0, 0, 0, 0, 0, 0, 0, 0], [0, 0, 0, 0, 0, 0, 0, 0, 0, 0, 0, 0, 0, 0, 0, 0, 0, 0, 0, 0], [0, 0, 0, 0, 0, 0, 0, 0, 0, 0, 0, 0, 0, 0, 0, 0, 0, 0, 0, 0], [0, 0, 0, 0, 0, 0, 0, 0, 0, 0, 0, 0, 0, 0, 0, 0, 0, 0, 0, 0], [0, 0, 0, 0, 0, 0, 0, 0, 0, 0, 0, 0, 0, 0, 0, 0, 0, 0, 0, 0], [0, 0, 0, 0, 0, 0, 0, 0, 0, 0, 0, 0, 0, 0, 0, 0, 0, 0, 0, 0], [8, 0, 65, 91, 80, 50, 70, 21, 72, 95, 92, 57, 58, 40, 66, 69, 36, 16, 54, 48]]\n"
     ]
    }
   ],
   "source": [
    "grid = [[8,2,22,97,38,15,0,40,0,75,4,5,7,78,52,12,50,77,91,8],\n",
    "[49,49,99,40,17,81,18,57,60,87,17,40,98,43,69,48,4,56,62,0],\n",
    "[81,49,31,73,55,79,14,29,93,71,40,67,53,88,30,3,49,13,36,65],\n",
    "[52,70,95,23,4,60,11,42,69,24,68,56,1,32,56,71,37,2,36,91],\n",
    "[22,31,16,71,51,67,63,89,41,92,36,54,22,40,40,28,66,33,13,80],\n",
    "[24,47,32,60,99,3,45,2,44,75,33,53,78,36,84,20,35,17,12,50],\n",
    "[32,98,81,28,64,23,67,10,26,38,40,67,59,54,70,66,18,38,64,70],\n",
    "[67,26,20,68,2,62,12,20,95,63,94,39,63,8,40,91,66,49,94,21],\n",
    "[24,55,58,5,66,73,99,26,97,17,78,78,96,83,14,88,34,89,63,72],\n",
    "[21,36,23,9,75,0,76,44,20,45,35,14,0,61,33,97,34,31,33,95],\n",
    "[78,17,53,28,22,75,31,67,15,94,3,80,4,62,16,14,9,53,56,92],\n",
    "[16,39,5,42,96,35,31,47,55,58,88,24,0,17,54,24,36,29,85,57],\n",
    "[86,56,0,48,35,71,89,7,5,44,44,37,44,60,21,58,51,54,17,58],\n",
    "[19,80,81,68,5,94,47,69,28,73,92,13,86,52,17,77,4,89,55,40],\n",
    "[4,52,8,83,97,35,99,16,7,97,57,32,16,26,26,79,33,27,98,66],\n",
    "[88,36,68,87,57,62,20,72,3,46,33,67,46,55,12,32,63,93,53,69],\n",
    "[4,42,16,73,38,25,39,11,24,94,72,18,8,46,29,32,40,62,76,36],\n",
    "[20,69,36,41,72,30,23,88,34,62,99,69,82,67,59,85,74,4,36,16],\n",
    "[20,73,35,29,78,31,90,1,74,31,49,71,48,86,81,16,23,57,5,54],\n",
    "[1,70,54,71,83,51,54,69,16,92,33,48,61,43,52,1,89,19,67,48]]\n",
    "\n",
    "def horizontal(with_progression):\n",
    "    max_product = -1; _range = []\n",
    "    for g in grid:\n",
    "        i = 0\n",
    "        while i+4 < len(g):\n",
    "            current_product = 1\n",
    "            for n in g[i:i+4]:\n",
    "                current_product *= n\n",
    "            #end_for\n",
    "            if current_product > max_product:\n",
    "                max_product = current_product\n",
    "                _range = g[i:i+4]\n",
    "            i += 1\n",
    "            current_product = 1\n",
    "        #end_while\n",
    "    #end_for\n",
    "    return [max_product, _range] if with_progression else max_product\n",
    "\n",
    "def vertical(with_progression):\n",
    "    i = 0; max_product = -1; max_range = []\n",
    "    while i+4 < len(grid):\n",
    "        g = grid[i:i+4]; j = 0; current_range = []\n",
    "        current_product = 1\n",
    "        while j < len(grid[i]):\n",
    "            current_range = []; current_product = 1\n",
    "            for c in range(4):\n",
    "                current_product *= g[c][j]\n",
    "                current_range.append(g[c][j])\n",
    "            j +=1\n",
    "            if current_product > max_product:\n",
    "                max_product = current_product\n",
    "                max_range = []\n",
    "                for r in current_range:\n",
    "                    max_range.append(r)\n",
    "                #end_for\n",
    "            #end_if\n",
    "        #end_while\n",
    "        i +=1\n",
    "    #end_while\n",
    "    return [max_product, max_range] if with_progression else max_product\n",
    "\n",
    "def transpone(matrix):\n",
    "    i=0; j=0; t = []\n",
    "    for i in range(len(matrix)):\n",
    "        t.append([0]*len(matrix))\n",
    "    while i < len(matrix):\n",
    "        j = 0\n",
    "        while j < len(matrix):\n",
    "            #print(matrix[j][i])\n",
    "            t[i][j] = matrix[j][i]\n",
    "            j += 1\n",
    "        i += 1\n",
    "    return t\n",
    "\n",
    "#print(vertical(True))\n",
    "grid = transpone(grid)\n",
    "print(grid)#(horizontal(True))"
   ]
  },
  {
   "cell_type": "code",
   "execution_count": 24,
   "metadata": {
    "collapsed": false
   },
   "outputs": [
    {
     "name": "stdout",
     "output_type": "stream",
     "text": [
      "0\n",
      "[[0, 0, 0, 44, 0], [0, 0, 333, 0, 0], [0, 0, 0, 0, 0], [0, 0, 0, 0, 0], [0, 0, 0, 0, 0]]\n"
     ]
    }
   ],
   "source": [
    "gg = []\n",
    "print(len(gg))\n",
    "for i in range(5):\n",
    "    gg.append([0]*5)\n",
    "#line = 4\n",
    "gg[1][2] = 333\n",
    "gg[0][3] = 44\n",
    "\n",
    "print(gg)"
   ]
  }
 ],
 "metadata": {
  "kernelspec": {
   "display_name": "Python 3",
   "language": "python",
   "name": "python3"
  },
  "language_info": {
   "codemirror_mode": {
    "name": "ipython",
    "version": 3
   },
   "file_extension": ".py",
   "mimetype": "text/x-python",
   "name": "python",
   "nbconvert_exporter": "python",
   "pygments_lexer": "ipython3",
   "version": "3.4.3"
  }
 },
 "nbformat": 4,
 "nbformat_minor": 0
}
